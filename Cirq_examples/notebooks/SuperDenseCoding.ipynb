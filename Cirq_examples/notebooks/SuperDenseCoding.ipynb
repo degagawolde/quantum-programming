{
 "cells": [
  {
   "cell_type": "markdown",
   "metadata": {},
   "source": [
    "# uperdense Coding\n",
    "\n",
    "Superdense Coding is a method to transmit two classical bits of information<br>\n",
    "by sending only one qubit of information. This is accomplished by<br>\n",
    "pre-sharing an entangled state between the sender and the receiver. This<br>\n",
    "entangled state allows the receiver of the one qubit of information to<br>\n",
    "decode the two classical bits that were originally encoded by the sender.<br>\n",
    "\n",
    "In the following example output, qubit 0 and qubit 1 are randomly set to<br>\n",
    "either 0 or 1 by using Hadamard and Measure gates. By sending one qubit of<br>\n",
    "information between qubit 2 and qubit 3, the receiver is able to decode the<br>\n",
    "originally encoded information when qubits 3 and 4 are measured. This is<br>\n",
    "only possible given that an entangled state is pre-shared between the<br>\n",
    "sender and receiver.<br>\n",
    "\n",
    "The two input bits and the two output bits returned by this circuit should<br>\n",
    "be identical.<br>"
   ]
  },
  {
   "cell_type": "markdown",
   "metadata": {},
   "source": [
    "=== REFERENCE ===<br>\n",
    "https://en.m.wikipedia.org/wiki/Superdense_coding<br>\n",
    "\n",
    "=== EXAMPLE OUTPUT ===<br>\n",
    "Circuit:<br>\n",
    "0: ---H---M('input ')--------------@----------------------------- <br>\n",
    "          |                        |                              <br>\n",
    "1: ---H---M--------------------@---|----------------------------- <br>\n",
    "                               |   |<br>\n",
    "2: --------------------H---@---X---@---x------------------------- <br>\n",
    "                           |           |\n",
    "3: ------------------------|-----------x---@---H---M('output')--- <br>\n",
    "                           |               |       |<br>\n",
    "4: ------------------------X---------------X-------M------------- <br>\n",
    "\n",
    "Results: <br>\n",
    "input =10001000000000011110, 10000001100000001000 <br>\n",
    "output=10001000000000011110, 10000001100000001000 <br>\n",
    "\n",
    "\"\"\"\n"
   ]
  },
  {
   "cell_type": "code",
   "execution_count": 1,
   "metadata": {},
   "outputs": [],
   "source": [
    "import cirq"
   ]
  },
  {
   "cell_type": "code",
   "execution_count": 2,
   "metadata": {},
   "outputs": [],
   "source": [
    "def make_superdense_circuit():\n",
    "    circuit = cirq.Circuit()\n",
    "    q0, q1, q2, q3, q4 = cirq.LineQubit.range(5)\n",
    "\n",
    "    # Randomly sets q0 and q1 to either 0 or 1\n",
    "    circuit.append([cirq.H(q0), cirq.H(q1)])\n",
    "    circuit.append(cirq.measure(q0, q1, key=\"input \"))\n",
    "\n",
    "    # Creates Bell State to be shared on q2 and q4\n",
    "    circuit.append([cirq.H(q2), cirq.CNOT(q2, q4)])\n",
    "    # Step 1 of encoding (controlled NOT gate on q1 / q2)\n",
    "    circuit.append(cirq.CNOT(q1, q2))\n",
    "    # Step 2 of encoding (controlled Z gate on q0 / q2)\n",
    "    circuit.append(cirq.CZ(q0, q2))\n",
    "    # Sends encoded information to receiver\n",
    "    circuit.append(cirq.SWAP(q2, q3))\n",
    "    # Step 1 of decoding (controlled NOT gate on q3 and q4)\n",
    "    circuit.append(cirq.CNOT(q3, q4))\n",
    "    # Step 2 of decoding (Hadamard gate on q3)\n",
    "    circuit.append(cirq.H(q3))\n",
    "    # Measurement by receiver to decode bits\n",
    "    circuit.append(cirq.measure(q3, q4, key=\"output\"))\n",
    "\n",
    "    return circuit\n",
    "\n",
    "\n",
    "def main():\n",
    "    circuit = make_superdense_circuit()\n",
    "    print(\"Circuit:\")\n",
    "    print(circuit)\n",
    "\n",
    "    sim = cirq.Simulator()\n",
    "    results = sim.run(circuit, repetitions=20)\n",
    "    print(\"\\nResults:\")\n",
    "    print(results)"
   ]
  },
  {
   "cell_type": "code",
   "execution_count": 3,
   "metadata": {},
   "outputs": [
    {
     "name": "stdout",
     "output_type": "stream",
     "text": [
      "Circuit:\n",
      "0: ───H───M('input ')───────@─────────────────────────────\n",
      "          │                 │\n",
      "1: ───H───M─────────────@───┼─────────────────────────────\n",
      "                        │   │\n",
      "2: ───H───@─────────────X───@───×─────────────────────────\n",
      "          │                     │\n",
      "3: ───────┼─────────────────────×───@───H───M('output')───\n",
      "          │                         │       │\n",
      "4: ───────X─────────────────────────X───────M─────────────\n",
      "\n",
      "Results:\n",
      "input =11111011010011011111, 11100101000000100000\n",
      "output=11111011010011011111, 11100101000000100000\n"
     ]
    }
   ],
   "source": [
    "if __name__ == '__main__':\n",
    "    main()"
   ]
  }
 ],
 "metadata": {
  "kernelspec": {
   "display_name": "Python 3.9.7 ('env': venv)",
   "language": "python",
   "name": "python3"
  },
  "language_info": {
   "codemirror_mode": {
    "name": "ipython",
    "version": 3
   },
   "file_extension": ".py",
   "mimetype": "text/x-python",
   "name": "python",
   "nbconvert_exporter": "python",
   "pygments_lexer": "ipython3",
   "version": "3.9.7"
  },
  "orig_nbformat": 4,
  "vscode": {
   "interpreter": {
    "hash": "da4c97160e7f850dfdbd6655aaeb928268c26167f982ef6cc52252a87d70b8d7"
   }
  }
 },
 "nbformat": 4,
 "nbformat_minor": 2
}
